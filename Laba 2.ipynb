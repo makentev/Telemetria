{
 "cells": [
  {
   "cell_type": "code",
   "execution_count": 1,
   "metadata": {},
   "outputs": [],
   "source": [
    "import hashlib\n",
    "import string\n",
    "import time\n",
    "import itertools"
   ]
  },
  {
   "cell_type": "code",
   "execution_count": 4,
   "metadata": {},
   "outputs": [
    {
     "name": "stdout",
     "output_type": "stream",
     "text": [
      "7ba586cb7a4a95fd61058f6e843579dc\n"
     ]
    }
   ],
   "source": [
    "password = 'Dendi'  \n",
    "res = hashlib.md5(password.encode())  \n",
    "print(res.hexdigest())"
   ]
  },
  {
   "cell_type": "code",
   "execution_count": 3,
   "metadata": {},
   "outputs": [
    {
     "name": "stdout",
     "output_type": "stream",
     "text": [
      "0123456789\n"
     ]
    }
   ],
   "source": [
    "print(string.digits)"
   ]
  },
  {
   "cell_type": "code",
   "execution_count": null,
   "metadata": {},
   "outputs": [],
   "source": [
    "target_hash = \"7ba586cb7a4a95fd61058f6e843579dc\"\n",
    "alphabet = string.ascii_letters\n",
    "start_time = time.time()\n",
    "\n",
    "for combination in itertools.product(alphabet, repeat=5):\n",
    "    password = ''.join(combination)  \n",
    "    test_hash = hashlib.md5(password.encode()).hexdigest() \n",
    "    \n",
    "    if test_hash == target_hash:\n",
    "        print(f\"Пароль найден: {password}\")\n",
    "        break\n",
    "\n",
    "finish_time = time.time()\n",
    "print(f\"Время подбора: {finish_time - start_time:.6f} сек\")"
   ]
  },
  {
   "cell_type": "code",
   "execution_count": null,
   "metadata": {},
   "outputs": [],
   "source": [
    "def generate(alphabet, max_len): \n",
    "    if max_len <= 0: \n",
    "        return  \n",
    "    for c in alphabet: \n",
    "        yield c  \n",
    "    for c in alphabet: \n",
    "        for next in generate(alphabet, max_len - 1): \n",
    "            yield c + next  \n",
    "\n",
    "gen = generate('ab', 6)  \n",
    "for item in gen:  \n",
    "    print(item)  "
   ]
  }
 ],
 "metadata": {
  "kernelspec": {
   "display_name": "Python 3",
   "language": "python",
   "name": "python3"
  },
  "language_info": {
   "codemirror_mode": {
    "name": "ipython",
    "version": 3
   },
   "file_extension": ".py",
   "mimetype": "text/x-python",
   "name": "python",
   "nbconvert_exporter": "python",
   "pygments_lexer": "ipython3",
   "version": "3.12.6"
  }
 },
 "nbformat": 4,
 "nbformat_minor": 2
}
