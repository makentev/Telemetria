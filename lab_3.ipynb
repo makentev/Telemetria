%pip install cryptography
import os
key = os.urandom(16)
from cryptography.hazmat.primitives.ciphers import Cipher, algorithms, modes
from cryptography.hazmat.backends import default_backend
aesCipher = Cipher(algorithms.AES(key), modes.ECB(),
backend=default_backend())
aesEncryptor = aesCipher.encryptor()
aesDecryptor = aesCipher.decryptor()