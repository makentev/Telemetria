{
 "cells": [
  {
   "cell_type": "code",
   "execution_count": null,
   "metadata": {},
   "outputs": [],
   "source": [
    "#3 лаба"
   ]
  },
  {
   "cell_type": "code",
   "execution_count": 1,
   "metadata": {},
   "outputs": [
    {
     "name": "stdout",
     "output_type": "stream",
     "text": [
      "Collecting cryptography\n",
      "  Downloading cryptography-44.0.2-cp39-abi3-win_amd64.whl.metadata (5.7 kB)\n",
      "Collecting cffi>=1.12 (from cryptography)\n",
      "  Downloading cffi-1.17.1-cp312-cp312-win_amd64.whl.metadata (1.6 kB)\n",
      "Collecting pycparser (from cffi>=1.12->cryptography)\n",
      "  Downloading pycparser-2.22-py3-none-any.whl.metadata (943 bytes)\n",
      "Downloading cryptography-44.0.2-cp39-abi3-win_amd64.whl (3.2 MB)\n",
      "   ---------------------------------------- 0.0/3.2 MB ? eta -:--:--\n",
      "   ---------------------------------------- 0.0/3.2 MB ? eta -:--:--\n",
      "   ------ --------------------------------- 0.5/3.2 MB 2.8 MB/s eta 0:00:01\n",
      "   -------------------------- ------------- 2.1/3.2 MB 5.6 MB/s eta 0:00:01\n",
      "   ---------------------------------------- 3.2/3.2 MB 6.1 MB/s eta 0:00:00\n",
      "Downloading cffi-1.17.1-cp312-cp312-win_amd64.whl (181 kB)\n",
      "Downloading pycparser-2.22-py3-none-any.whl (117 kB)\n",
      "Installing collected packages: pycparser, cffi, cryptography\n",
      "Successfully installed cffi-1.17.1 cryptography-44.0.2 pycparser-2.22\n",
      "Note: you may need to restart the kernel to use updated packages.\n"
     ]
    },
    {
     "name": "stderr",
     "output_type": "stream",
     "text": [
      "\n",
      "[notice] A new release of pip is available: 24.2 -> 25.0.1\n",
      "[notice] To update, run: python.exe -m pip install --upgrade pip\n"
     ]
    }
   ],
   "source": [
    "%pip install cryptography"
   ]
  },
  {
   "cell_type": "code",
   "execution_count": 1,
   "metadata": {},
   "outputs": [],
   "source": [
    "import os\n",
    "from cryptography.hazmat.primitives.ciphers import Cipher, algorithms, modes\n",
    "from cryptography.hazmat.backends import default_backend\n",
    "from cryptography.hazmat.primitives import padding\n",
    "from os import urandom"
   ]
  },
  {
   "cell_type": "code",
   "execution_count": null,
   "metadata": {},
   "outputs": [],
   "source": [
    "#2 лаба\n",
    "key = os.urandom(16)\n",
    "aesCipher = Cipher(algorithms.AES(key), modes.ECB(),\n",
    "backend=default_backend())\n",
    "aesEncryptor = aesCipher.encryptor()\n",
    "aesDecryptor = aesCipher.decryptor()"
   ]
  },
  {
   "cell_type": "code",
   "execution_count": null,
   "metadata": {},
   "outputs": [
    {
     "name": "stdout",
     "output_type": "stream",
     "text": [
      "AES Key: 93e3cd712054949c1b9e5cdc71d2fc8d\n",
      "Зашифрованное сообщение: 0726c0738e2dcfd80d393a06c43d59a8\n",
      "Расшифрованное сообщение: ппп\n"
     ]
    }
   ],
   "source": [
    "\n",
    "def generate_key():\n",
    "    return os.urandom(16)  \n",
    "\n",
    "def encrypt_message(key, plaintext):\n",
    "    cipher = Cipher(algorithms.AES(key), modes.ECB(), backend=default_backend())\n",
    "    encryptor = cipher.encryptor()\n",
    "\n",
    "    padder = padding.PKCS7(128).padder()\n",
    "    padded_data = padder.update(plaintext.encode()) + padder.finalize()\n",
    "    \n",
    "    ciphertext = encryptor.update(padded_data) + encryptor.finalize()\n",
    "    return ciphertext\n",
    "\n",
    "def decrypt_message(key, ciphertext):\n",
    "    cipher = Cipher(algorithms.AES(key), modes.ECB(), backend=default_backend())\n",
    "    decryptor = cipher.decryptor()\n",
    "    \n",
    "    decrypted_padded = decryptor.update(ciphertext) + decryptor.finalize()\n",
    "    \n",
    " \n",
    "    unpadder = padding.PKCS7(128).unpadder()\n",
    "    decrypted_data = unpadder.update(decrypted_padded) + unpadder.finalize()\n",
    "    \n",
    "    return decrypted_data.decode()\n",
    "\n",
    "\n",
    "aes_key = generate_key()\n",
    "print(f\"AES Key: {aes_key.hex()}\")\n",
    "\n",
    "\n",
    "message = input(\"Введите сообщение: \")\n",
    "\n",
    "\n",
    "encrypted = encrypt_message(aes_key, message)\n",
    "print(f\"Зашифрованное сообщение: {encrypted.hex()}\")\n",
    "\n",
    "\n",
    "decrypted = decrypt_message(aes_key, encrypted)\n",
    "print(f\"Расшифрованное сообщение: {decrypted}\")\n"
   ]
  },
  {
   "cell_type": "code",
   "execution_count": null,
   "metadata": {},
   "outputs": [
    {
     "name": "stdout",
     "output_type": "stream",
     "text": [
      "b'This is very secret message for '\n",
      "b'\\xff.\\x1e\\x9a\\x89\\xb6]{bc\\x13 \\xb1\\xd5\\xfc\\xf9\\x8b0\\xa2a\\xc5V\\xf2\\xf3\\xd0\\x13\\xce|\\x91\\xab\\x87\\x8c\\xfeCP<C\\x17XB\\xfc\\x06[\\x14\\r\\xc1\\x1a|'\n",
      "b'Bob, come and have tea with jam on March 14 at 1'\n"
     ]
    }
   ],
   "source": [
    "#2 задание 3 лабы\n",
    "encrypter_message= b'\\x08r\\x9b*\\xeee\\x96a\\xafdY\\x05F\\t:\\x95:I.\\xabU\\xa6S\\x8a\\xbaw\\xf8V\\x16sa\\xbe'\n",
    "\n",
    "super_secret_key = 1234654\n",
    "key = super_secret_key.to_bytes(16,'big')\n",
    "\n",
    "aesCipher = Cipher(algorithms.AES(key), modes.ECB(),\n",
    "backend=default_backend())\n",
    "aesEncryptor = aesCipher.encryptor()\n",
    "aesDecryptor = aesCipher.decryptor()\n",
    "\n",
    "print(aesDecryptor.update(encrypter_message))\n",
    "\n",
    "Za = b'Bob, come and have tea with jam on March 14 at 16:00'\n",
    "Ra = aesEncryptor.update(Za)\n",
    "print(Ra)\n",
    "G=b'\\xff.\\x1e\\x9a\\x89\\xb6]{bc\\x13 \\xb1\\xd5\\xfc\\xf9\\x8b0\\xa2a\\xc5V\\xf2\\xf3\\xd0\\x13\\xce|\\x91\\xab\\x87\\x8c\\xfeCP<C\\x17XB\\xfc\\x06[\\x14\\r\\xc1\\x1a|'\n",
    "\n",
    "print(aesDecryptor.update(G))"
   ]
  },
  {
   "cell_type": "code",
   "execution_count": null,
   "metadata": {},
   "outputs": [
    {
     "name": "stdout",
     "output_type": "stream",
     "text": [
      "Зашифрованное сообщение 1: ace4a674898dfc7534593f9155bf026c5d25e5d5962dc6f4895dbcaea0164bb5aa29ce389ac5d3d2bb4695b71826a00f234f221d298f8c2dea9394327e241b71\n",
      "Зашифрованное сообщение 2: ace4a674898dfc7534593f9155bf026c5d25e5d5962dc6f4895dbcaea0164bb50a6b9e8afe9a8fa5a5fe3b4a8eb035d72890f43819efc6482d43c7bb4e3c90c3\n",
      "Расшифрованное изменённое сообщение 2: Встреча Боба и Алисы 31 марта в кафе\n"
     ]
    }
   ],
   "source": [
    "#3 задание 3 лабораторной\n",
    "def generate_key():\n",
    "    return os.urandom(16)  \n",
    "\n",
    "def encrypt_message(key, plaintext):\n",
    "    cipher = Cipher(algorithms.AES(key), modes.ECB(), backend=default_backend())\n",
    "    encryptor = cipher.encryptor()\n",
    "    \n",
    "    padder = padding.PKCS7(128).padder()\n",
    "    padded_data = padder.update(plaintext.encode()) + padder.finalize()\n",
    "    \n",
    "    ciphertext = encryptor.update(padded_data) + encryptor.finalize()\n",
    "    return ciphertext\n",
    "\n",
    "def decrypt_message(key, ciphertext):\n",
    "    cipher = Cipher(algorithms.AES(key), modes.ECB(), backend=default_backend())\n",
    "    decryptor = cipher.decryptor()\n",
    "    \n",
    "    decrypted_padded = decryptor.update(ciphertext) + decryptor.finalize()\n",
    "    \n",
    "    unpadder = padding.PKCS7(128).unpadder()\n",
    "    decrypted_data = unpadder.update(decrypted_padded) + unpadder.finalize()\n",
    "    \n",
    "    return decrypted_data.decode()\n",
    "\n",
    "aes_key = generate_key()\n",
    "\n",
    "\n",
    "message1 = \"Встреча Боба и Алисы 10 марта в кафе\"\n",
    "encrypted1 = encrypt_message(aes_key, message1)\n",
    "print(f\"Зашифрованное сообщение 1: {encrypted1.hex()}\")\n",
    "\n",
    "\n",
    "message2 = \"Встреча Боба и Алисы 31 марта в кино\"\n",
    "encrypted2 = encrypt_message(aes_key, message2)\n",
    "print(f\"Зашифрованное сообщение 2: {encrypted2.hex()}\")\n",
    "\n",
    "\n",
    "modified_encrypted2 = encrypted2[:-16] + encrypted1[-16:]\n",
    "\n",
    "\n",
    "modified_message2 = decrypt_message(aes_key, modified_encrypted2)\n",
    "print(f\"Расшифрованное изменённое сообщение 2: {modified_message2}\")\n"
   ]
  },
  {
   "cell_type": "code",
   "execution_count": 4,
   "metadata": {},
   "outputs": [
    {
     "name": "stdout",
     "output_type": "stream",
     "text": [
      "Зашифрованное сообщение 1: 2a2bb0110dfd99b21bdf26b99433a88389103a3ad9dad0c14c7b235bee0503ee40cddccf1d05f463ccfc8e450bdeb7bc9b7e9eca90e3d8fd7c8867a7c25cf95d\n",
      "Зашифрованное сообщение 2: 2a2bb0110dfd99b21bdf26b99433a88389103a3ad9dad0c14c7b235bee0503eee0ee15fb3bb346b6957e1acb93cf1823523efed58676274d95fe72239f9e71e4\n",
      "Расшифрованное изменённое сообщение 2: Встреча Боба и Алисы 28 мая в кафе\n"
     ]
    }
   ],
   "source": [
    "key = b'\\x01' * 16  \n",
    "\n",
    "message1 = \"Встреча Боба и Алисы 10 мая в кафе\"\n",
    "cipher1 = Cipher(algorithms.AES(key), modes.ECB(), backend=default_backend())\n",
    "encryptor1 = cipher1.encryptor()\n",
    "padder1 = padding.PKCS7(128).padder()\n",
    "padded_data1 = padder1.update(message1.encode()) + padder1.finalize()\n",
    "encrypted1 = encryptor1.update(padded_data1) + encryptor1.finalize()\n",
    "print(f\"Зашифрованное сообщение 1: {encrypted1.hex()}\")\n",
    "\n",
    "message2 = \"Встреча Боба и Алисы 28 мая в кино\"\n",
    "cipher2 = Cipher(algorithms.AES(key), modes.ECB(), backend=default_backend())\n",
    "encryptor2 = cipher2.encryptor()\n",
    "padder2 = padding.PKCS7(128).padder()\n",
    "padded_data2 = padder2.update(message2.encode()) + padder2.finalize()\n",
    "encrypted2 = encryptor2.update(padded_data2) + encryptor2.finalize()\n",
    "print(f\"Зашифрованное сообщение 2: {encrypted2.hex()}\")\n",
    "\n",
    "modified_encrypted2 = encrypted2[:-16] + encrypted1[-16:]\n",
    "\n",
    "decryptor = Cipher(algorithms.AES(key), modes.ECB(), backend=default_backend()).decryptor()\n",
    "decrypted_padded = decryptor.update(modified_encrypted2) + decryptor.finalize()\n",
    "unpadder = padding.PKCS7(128).unpadder()\n",
    "decrypted = unpadder.update(decrypted_padded) + unpadder.finalize()\n",
    "print(f\"Расшифрованное изменённое сообщение 2: {decrypted.decode()}\")"
   ]
  },
  {
   "cell_type": "code",
   "execution_count": null,
   "metadata": {},
   "outputs": [],
   "source": [
    "#4 задание"
   ]
  },
  {
   "cell_type": "code",
   "execution_count": null,
   "metadata": {},
   "outputs": [],
   "source": [
    "\n",
    "def encrypt_image(input_image_path, output_image_path, key):\n",
    "\n",
    "    with open(input_image_path, \"rb\") as f:\n",
    "        image_data = f.read()\n",
    "\n",
    "\n",
    "    header = image_data[:54]  \n",
    "    image_data = image_data[54:]  \n",
    "\n",
    "   \n",
    "    cipher = Cipher(algorithms.AES(key), modes.ECB(), backend=default_backend())\n",
    "    encryptor = cipher.encryptor()\n",
    "\n",
    "   \n",
    "    encrypted_image_data = bytearray()\n",
    "    while len(image_data) > 0:\n",
    "        block = image_data[:16]\n",
    "        \n",
    "        while len(block) < 16:\n",
    "            block += b'\\x00'  \n",
    "        encrypted_image_data.extend(encryptor.update(block))\n",
    "        image_data = image_data[16:]  \n",
    "\n",
    "    with open(output_image_path, \"wb\") as f:\n",
    "        f.write(header) \n",
    "        f.write(bytes(encrypted_image_data))  \n",
    "\n",
    "key = os.urandom(32)  \n",
    "encrypt_image(\"windows_7_login_blue_by_cahilart_d2ch19o-pre.jpg\", \"encrypted_image.bmp\", key)"
   ]
  },
  {
   "cell_type": "code",
   "execution_count": 1,
   "metadata": {},
   "outputs": [],
   "source": [
    "from cryptography.hazmat.primitives.ciphers import Cipher, algorithms,modes \n",
    "from cryptography.hazmat.backends import default_backend \n",
    "from cryptography.hazmat.primitives import padding \n",
    "import os "
   ]
  },
  {
   "cell_type": "code",
   "execution_count": 36,
   "metadata": {},
   "outputs": [
    {
     "name": "stdout",
     "output_type": "stream",
     "text": [
      "зашифрованное сообщение сохранено как 'ciphertext.bin'.\n"
     ]
    }
   ],
   "source": [
    "#5 \n",
    "from cryptography.hazmat.primitives.ciphers import Cipher, algorithms, modes\n",
    "from cryptography.hazmat.backends import default_backend\n",
    "import os\n",
    "\n",
    "class EncryptionManager:\n",
    "    def __init__(self):\n",
    "       \n",
    "        self.key = os.urandom(32)\n",
    "        self.nonce = os.urandom(16)\n",
    "\n",
    "      \n",
    "        aes_context = Cipher(algorithms.AES(self.key),\n",
    "                             modes.CTR(self.nonce),\n",
    "                             backend=default_backend())\n",
    "        self.encryptor = aes_context.encryptor()\n",
    "        self.decryptor = aes_context.decryptor()\n",
    "\n",
    "    def updateEncryptor(self, plaintext):\n",
    "\n",
    "        return self.encryptor.update(plaintext)\n",
    "\n",
    "    def finalizeEncryptor(self):\n",
    "        \n",
    "        return self.encryptor.finalize()\n",
    "\n",
    "    def save_encrypted_data(self, ciphertext):\n",
    "       \n",
    "        with open(\"ciphertext.bin\", \"wb\") as f:\n",
    "            f.write(self.key)  \n",
    "            f.write(self.nonce)  \n",
    "            f.write(ciphertext)  \n",
    "\n",
    "\n",
    "manager = EncryptionManager()\n",
    "\n",
    "plaintexts = [\n",
    "    b\"HELLO\",\n",
    "    b\" BYE BYE BYE BYE\",\n",
    "    b\" YES YES YES YES YES YES YES\"\n",
    "]\n",
    "\n",
    "ciphertexts = []\n",
    "\n",
    "\n",
    "for m in plaintexts:\n",
    "    ciphertexts.append(manager.updateEncryptor(m))\n",
    "ciphertexts.append(manager.finalizeEncryptor())\n",
    "\n",
    "\n",
    "ciphertext = b\"\".join(ciphertexts)\n",
    "manager.save_encrypted_data(ciphertext)\n",
    "print(\"зашифрованное сообщение сохранено как 'ciphertext.bin'.\")\n"
   ]
  },
  {
   "cell_type": "code",
   "execution_count": 37,
   "metadata": {},
   "outputs": [
    {
     "name": "stdout",
     "output_type": "stream",
     "text": [
      "Рассшифрованное сообщение: HELLO BYE BYE BYE BYE YES YES YES YES YES YES YES\n"
     ]
    }
   ],
   "source": [
    "class EncryptionManager:\n",
    "    def __init__(self, key, nonce):\n",
    "      \n",
    "        if key is None or nonce is None:\n",
    "            raise ValueError(\"Key and nonce must be provided.\")\n",
    "        \n",
    "      \n",
    "        aes_context = Cipher(algorithms.AES(key),\n",
    "                             modes.CTR(nonce),\n",
    "                             backend=default_backend())\n",
    "        self.decryptor = aes_context.decryptor()\n",
    "\n",
    "    def updateDecryptor(self, ciphertext):\n",
    "    \n",
    "        return self.decryptor.update(ciphertext)\n",
    "\n",
    "    def finalizeDecryptor(self):\n",
    "    \n",
    "        return self.decryptor.finalize()\n",
    "\n",
    "    @staticmethod\n",
    "    def read_encrypted_data():\n",
    "       \n",
    "        with open(\"ciphertext.bin\", \"rb\") as f:\n",
    "            key = f.read(32)  \n",
    "            nonce = f.read(16)  \n",
    "            ciphertext = f.read()  \n",
    "        return key, nonce, ciphertext\n",
    "\n",
    "\n",
    "key, nonce, ciphertext = EncryptionManager.read_encrypted_data()\n",
    "\n",
    "decryptor_manager = EncryptionManager(key, nonce)\n",
    "\n",
    "decrypted_data = decryptor_manager.updateDecryptor(ciphertext)\n",
    "decrypted_data += decryptor_manager.finalizeDecryptor()\n",
    "\n",
    "print(\"Рассшифрованное сообщение:\", decrypted_data.decode('utf-8'))"
   ]
  },
  {
   "cell_type": "code",
   "execution_count": 6,
   "metadata": {},
   "outputs": [
    {
     "name": "stdout",
     "output_type": "stream",
     "text": [
      "Generating keystream using IV for iteration 0Generating keystream using CTR for iteration 0\n",
      "\n",
      "Generating keystream using IV for iteration 1\n",
      "Generating keystream using CTR for iteration 1\n",
      "Generating keystream using IV for iteration 2\n",
      "Generating keystream using CTR for iteration 2\n",
      "Generating keystream using IV for iteration 3\n",
      "Generating keystream using CTR for iteration 3\n",
      "Generating keystream using IV for iteration 4\n",
      "Generating keystream using CTR for iteration 4\n"
     ]
    }
   ],
   "source": [
    "#6\n",
    "from threading import Thread\n",
    "\n",
    "def keystream(method, iteration):\n",
    "    print(f\"Generating keystream using {method} for iteration {iteration}\")\n",
    "\n",
    "def parallel_keystream(methods, n):\n",
    "    threads = []\n",
    "    for i in range(n):\n",
    "        for method in methods:\n",
    "            t = Thread(target=keystream, args=(method, i))\n",
    "            threads.append(t)\n",
    "            t.start()\n",
    "\n",
    "    for t in threads:\n",
    "        t.join()\n",
    "\n",
    "\n",
    "methods = ['IV', 'CTR'] \n",
    "n = 5  \n",
    "\n",
    "parallel_keystream(methods, n)\n"
   ]
  },
  {
   "cell_type": "code",
   "execution_count": null,
   "metadata": {},
   "outputs": [],
   "source": []
  }
 ],
 "metadata": {
  "kernelspec": {
   "display_name": "Python 3",
   "language": "python",
   "name": "python3"
  },
  "language_info": {
   "codemirror_mode": {
    "name": "ipython",
    "version": 3
   },
   "file_extension": ".py",
   "mimetype": "text/x-python",
   "name": "python",
   "nbconvert_exporter": "python",
   "pygments_lexer": "ipython3",
   "version": "3.12.6"
  }
 },
 "nbformat": 4,
 "nbformat_minor": 2
}
