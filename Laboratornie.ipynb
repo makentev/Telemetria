{
 "cells": [
  {
   "cell_type": "code",
   "execution_count": 2,
   "metadata": {},
   "outputs": [],
   "source": [
    "import hashlib\n",
    "import string\n",
    "import time\n",
    "import itertools\n"
   ]
  },
  {
   "cell_type": "code",
   "execution_count": null,
   "metadata": {},
   "outputs": [
    {
     "name": "stdout",
     "output_type": "stream",
     "text": [
      "b0357b632ffd56428171695e240acafe\n"
     ]
    }
   ],
   "source": [
    "password = 'Dendi'  \n",
    "res = hashlib.md5(password.encode())  \n",
    "print(res.hexdigest())"
   ]
  },
  {
   "cell_type": "code",
   "execution_count": 3,
   "metadata": {},
   "outputs": [
    {
     "name": "stdout",
     "output_type": "stream",
     "text": [
      "0123456789\n"
     ]
    }
   ],
   "source": [
    "print(string.digits)"
   ]
  },
  {
   "cell_type": "code",
   "execution_count": null,
   "metadata": {},
   "outputs": [
    {
     "name": "stdout",
     "output_type": "stream",
     "text": [
      "Пароль найден: Maxsi\n",
      "Время подбора: 222.171510 сек\n"
     ]
    }
   ],
   "source": [
    "target_hash = \"7ba586cb7a4a95fd61058f6e843579dc\"\n",
    "alphabet = string.printable\n",
    "start_time = time.time()\n",
    "\n",
    "for combination in itertools.product(alphabet, repeat=5):\n",
    "    password = ''.join(combination)  \n",
    "    test_hash = hashlib.md5(password.encode()).hexdigest() \n",
    "    \n",
    "    if test_hash == target_hash:\n",
    "        print(f\"Пароль найден: {password}\")\n",
    "        break\n",
    "\n",
    "finish_time = time.time()\n",
    "print(f\"Время подбора: {finish_time - start_time:.6f} сек\")"
   ]
  },
  {
   "cell_type": "code",
   "execution_count": 12,
   "metadata": {},
   "outputs": [
    {
     "name": "stdout",
     "output_type": "stream",
     "text": [
      "a\n",
      "b\n",
      "aa\n",
      "ab\n",
      "aaa\n",
      "aab\n",
      "aaaa\n",
      "aaab\n",
      "aaaaa\n",
      "aaaab\n",
      "aaaaaa\n",
      "aaaaab\n",
      "aaaaba\n",
      "aaaabb\n",
      "aaaba\n",
      "aaabb\n",
      "aaabaa\n",
      "aaabab\n",
      "aaabba\n",
      "aaabbb\n",
      "aaba\n",
      "aabb\n",
      "aabaa\n",
      "aabab\n",
      "aabaaa\n",
      "aabaab\n",
      "aababa\n",
      "aababb\n",
      "aabba\n",
      "aabbb\n",
      "aabbaa\n",
      "aabbab\n",
      "aabbba\n",
      "aabbbb\n",
      "aba\n",
      "abb\n",
      "abaa\n",
      "abab\n",
      "abaaa\n",
      "abaab\n",
      "abaaaa\n",
      "abaaab\n",
      "abaaba\n",
      "abaabb\n",
      "ababa\n",
      "ababb\n",
      "ababaa\n",
      "ababab\n",
      "ababba\n",
      "ababbb\n",
      "abba\n",
      "abbb\n",
      "abbaa\n",
      "abbab\n",
      "abbaaa\n",
      "abbaab\n",
      "abbaba\n",
      "abbabb\n",
      "abbba\n",
      "abbbb\n",
      "abbbaa\n",
      "abbbab\n",
      "abbbba\n",
      "abbbbb\n",
      "ba\n",
      "bb\n",
      "baa\n",
      "bab\n",
      "baaa\n",
      "baab\n",
      "baaaa\n",
      "baaab\n",
      "baaaaa\n",
      "baaaab\n",
      "baaaba\n",
      "baaabb\n",
      "baaba\n",
      "baabb\n",
      "baabaa\n",
      "baabab\n",
      "baabba\n",
      "baabbb\n",
      "baba\n",
      "babb\n",
      "babaa\n",
      "babab\n",
      "babaaa\n",
      "babaab\n",
      "bababa\n",
      "bababb\n",
      "babba\n",
      "babbb\n",
      "babbaa\n",
      "babbab\n",
      "babbba\n",
      "babbbb\n",
      "bba\n",
      "bbb\n",
      "bbaa\n",
      "bbab\n",
      "bbaaa\n",
      "bbaab\n",
      "bbaaaa\n",
      "bbaaab\n",
      "bbaaba\n",
      "bbaabb\n",
      "bbaba\n",
      "bbabb\n",
      "bbabaa\n",
      "bbabab\n",
      "bbabba\n",
      "bbabbb\n",
      "bbba\n",
      "bbbb\n",
      "bbbaa\n",
      "bbbab\n",
      "bbbaaa\n",
      "bbbaab\n",
      "bbbaba\n",
      "bbbabb\n",
      "bbbba\n",
      "bbbbb\n",
      "bbbbaa\n",
      "bbbbab\n",
      "bbbbba\n",
      "bbbbbb\n"
     ]
    }
   ],
   "source": [
    "def generate(alphabet, max_len): \n",
    "    if max_len <= 0: \n",
    "        return  \n",
    "    for c in alphabet: \n",
    "        yield c  \n",
    "    for c in alphabet: \n",
    "        for next in generate(alphabet, max_len - 1): \n",
    "            yield c + next  \n",
    "\n",
    "gen = generate('ab', 6)  \n",
    "for item in gen:  \n",
    "    print(item)  \n"
   ]
  },
  {
   "cell_type": "code",
   "execution_count": null,
   "metadata": {},
   "outputs": [],
   "source": [
    "#3 лаба"
   ]
  },
  {
   "cell_type": "code",
   "execution_count": 1,
   "metadata": {},
   "outputs": [
    {
     "name": "stdout",
     "output_type": "stream",
     "text": [
      "Collecting cryptography\n",
      "  Downloading cryptography-44.0.2-cp39-abi3-win_amd64.whl.metadata (5.7 kB)\n",
      "Collecting cffi>=1.12 (from cryptography)\n",
      "  Downloading cffi-1.17.1-cp312-cp312-win_amd64.whl.metadata (1.6 kB)\n",
      "Collecting pycparser (from cffi>=1.12->cryptography)\n",
      "  Downloading pycparser-2.22-py3-none-any.whl.metadata (943 bytes)\n",
      "Downloading cryptography-44.0.2-cp39-abi3-win_amd64.whl (3.2 MB)\n",
      "   ---------------------------------------- 0.0/3.2 MB ? eta -:--:--\n",
      "   ---------------------------------------- 0.0/3.2 MB ? eta -:--:--\n",
      "   ------ --------------------------------- 0.5/3.2 MB 2.8 MB/s eta 0:00:01\n",
      "   -------------------------- ------------- 2.1/3.2 MB 5.6 MB/s eta 0:00:01\n",
      "   ---------------------------------------- 3.2/3.2 MB 6.1 MB/s eta 0:00:00\n",
      "Downloading cffi-1.17.1-cp312-cp312-win_amd64.whl (181 kB)\n",
      "Downloading pycparser-2.22-py3-none-any.whl (117 kB)\n",
      "Installing collected packages: pycparser, cffi, cryptography\n",
      "Successfully installed cffi-1.17.1 cryptography-44.0.2 pycparser-2.22\n",
      "Note: you may need to restart the kernel to use updated packages.\n"
     ]
    },
    {
     "name": "stderr",
     "output_type": "stream",
     "text": [
      "\n",
      "[notice] A new release of pip is available: 24.2 -> 25.0.1\n",
      "[notice] To update, run: python.exe -m pip install --upgrade pip\n"
     ]
    }
   ],
   "source": [
    "%pip install cryptography"
   ]
  },
  {
   "cell_type": "code",
   "execution_count": 1,
   "metadata": {},
   "outputs": [],
   "source": [
    "import os\n",
    "from cryptography.hazmat.primitives.ciphers import Cipher, algorithms, modes\n",
    "from cryptography.hazmat.backends import default_backend\n",
    "from cryptography.hazmat.primitives import padding\n",
    "from os import urandom"
   ]
  },
  {
   "cell_type": "code",
   "execution_count": 4,
   "metadata": {},
   "outputs": [],
   "source": [
    "\n",
    "key = os.urandom(16)\n",
    "aesCipher = Cipher(algorithms.AES(key), modes.ECB(),\n",
    "backend=default_backend())\n",
    "aesEncryptor = aesCipher.encryptor()\n",
    "aesDecryptor = aesCipher.decryptor()"
   ]
  },
  {
   "cell_type": "code",
   "execution_count": 15,
   "metadata": {},
   "outputs": [
    {
     "name": "stdout",
     "output_type": "stream",
     "text": [
      "AES Key: 93e3cd712054949c1b9e5cdc71d2fc8d\n",
      "Зашифрованное сообщение: 0726c0738e2dcfd80d393a06c43d59a8\n",
      "Расшифрованное сообщение: ппп\n"
     ]
    }
   ],
   "source": [
    "#2\n",
    "def generate_key():\n",
    "    return os.urandom(16)  \n",
    "\n",
    "def encrypt_message(key, plaintext):\n",
    "    cipher = Cipher(algorithms.AES(key), modes.ECB(), backend=default_backend())\n",
    "    encryptor = cipher.encryptor()\n",
    "\n",
    "    padder = padding.PKCS7(128).padder()\n",
    "    padded_data = padder.update(plaintext.encode()) + padder.finalize()\n",
    "    \n",
    "    ciphertext = encryptor.update(padded_data) + encryptor.finalize()\n",
    "    return ciphertext\n",
    "\n",
    "def decrypt_message(key, ciphertext):\n",
    "    cipher = Cipher(algorithms.AES(key), modes.ECB(), backend=default_backend())\n",
    "    decryptor = cipher.decryptor()\n",
    "    \n",
    "    decrypted_padded = decryptor.update(ciphertext) + decryptor.finalize()\n",
    "    \n",
    " \n",
    "    unpadder = padding.PKCS7(128).unpadder()\n",
    "    decrypted_data = unpadder.update(decrypted_padded) + unpadder.finalize()\n",
    "    \n",
    "    return decrypted_data.decode()\n",
    "\n",
    "\n",
    "aes_key = generate_key()\n",
    "print(f\"AES Key: {aes_key.hex()}\")\n",
    "\n",
    "\n",
    "message = input(\"Введите сообщение: \")\n",
    "\n",
    "\n",
    "encrypted = encrypt_message(aes_key, message)\n",
    "print(f\"Зашифрованное сообщение: {encrypted.hex()}\")\n",
    "\n",
    "\n",
    "decrypted = decrypt_message(aes_key, encrypted)\n",
    "print(f\"Расшифрованное сообщение: {decrypted}\")\n"
   ]
  },
  {
   "cell_type": "code",
   "execution_count": 34,
   "metadata": {},
   "outputs": [
    {
     "name": "stdout",
     "output_type": "stream",
     "text": [
      "b'This is very secret message for '\n",
      "b'\\xff.\\x1e\\x9a\\x89\\xb6]{bc\\x13 \\xb1\\xd5\\xfc\\xf9\\x8b0\\xa2a\\xc5V\\xf2\\xf3\\xd0\\x13\\xce|\\x91\\xab\\x87\\x8c\\xfeCP<C\\x17XB\\xfc\\x06[\\x14\\r\\xc1\\x1a|'\n",
      "b'Bob, come and have tea with jam on March 14 at 1'\n"
     ]
    }
   ],
   "source": [
    "#2\n",
    "encrypter_message= b'\\x08r\\x9b*\\xeee\\x96a\\xafdY\\x05F\\t:\\x95:I.\\xabU\\xa6S\\x8a\\xbaw\\xf8V\\x16sa\\xbe'\n",
    "\n",
    "super_secret_key = 1234654\n",
    "key = super_secret_key.to_bytes(16,'big')\n",
    "\n",
    "aesCipher = Cipher(algorithms.AES(key), modes.ECB(),\n",
    "backend=default_backend())\n",
    "aesEncryptor = aesCipher.encryptor()\n",
    "aesDecryptor = aesCipher.decryptor()\n",
    "\n",
    "print(aesDecryptor.update(encrypter_message))\n",
    "\n",
    "Za = b'Bob, come and have tea with jam on March 14 at 16:00'\n",
    "Ra = aesEncryptor.update(Za)\n",
    "print(Ra)\n",
    "G=b'\\xff.\\x1e\\x9a\\x89\\xb6]{bc\\x13 \\xb1\\xd5\\xfc\\xf9\\x8b0\\xa2a\\xc5V\\xf2\\xf3\\xd0\\x13\\xce|\\x91\\xab\\x87\\x8c\\xfeCP<C\\x17XB\\xfc\\x06[\\x14\\r\\xc1\\x1a|'\n",
    "\n",
    "print(aesDecryptor.update(G))"
   ]
  },
  {
   "cell_type": "code",
   "execution_count": 14,
   "metadata": {},
   "outputs": [
    {
     "name": "stdout",
     "output_type": "stream",
     "text": [
      "Зашифрованное сообщение 1: ace4a674898dfc7534593f9155bf026c5d25e5d5962dc6f4895dbcaea0164bb5aa29ce389ac5d3d2bb4695b71826a00f234f221d298f8c2dea9394327e241b71\n",
      "Зашифрованное сообщение 2: ace4a674898dfc7534593f9155bf026c5d25e5d5962dc6f4895dbcaea0164bb50a6b9e8afe9a8fa5a5fe3b4a8eb035d72890f43819efc6482d43c7bb4e3c90c3\n",
      "Расшифрованное изменённое сообщение 2: Встреча Боба и Алисы 31 марта в кафе\n"
     ]
    }
   ],
   "source": [
    "#3\n",
    "def generate_key():\n",
    "    return os.urandom(16)  \n",
    "\n",
    "def encrypt_message(key, plaintext):\n",
    "    cipher = Cipher(algorithms.AES(key), modes.ECB(), backend=default_backend())\n",
    "    encryptor = cipher.encryptor()\n",
    "    \n",
    "    padder = padding.PKCS7(128).padder()\n",
    "    padded_data = padder.update(plaintext.encode()) + padder.finalize()\n",
    "    \n",
    "    ciphertext = encryptor.update(padded_data) + encryptor.finalize()\n",
    "    return ciphertext\n",
    "\n",
    "def decrypt_message(key, ciphertext):\n",
    "    cipher = Cipher(algorithms.AES(key), modes.ECB(), backend=default_backend())\n",
    "    decryptor = cipher.decryptor()\n",
    "    \n",
    "    decrypted_padded = decryptor.update(ciphertext) + decryptor.finalize()\n",
    "    \n",
    "    unpadder = padding.PKCS7(128).unpadder()\n",
    "    decrypted_data = unpadder.update(decrypted_padded) + unpadder.finalize()\n",
    "    \n",
    "    return decrypted_data.decode()\n",
    "\n",
    "aes_key = generate_key()\n",
    "\n",
    "\n",
    "message1 = \"Встреча Боба и Алисы 10 марта в кафе\"\n",
    "encrypted1 = encrypt_message(aes_key, message1)\n",
    "print(f\"Зашифрованное сообщение 1: {encrypted1.hex()}\")\n",
    "\n",
    "\n",
    "message2 = \"Встреча Боба и Алисы 31 марта в кино\"\n",
    "encrypted2 = encrypt_message(aes_key, message2)\n",
    "print(f\"Зашифрованное сообщение 2: {encrypted2.hex()}\")\n",
    "\n",
    "\n",
    "modified_encrypted2 = encrypted2[:-16] + encrypted1[-16:]\n",
    "\n",
    "\n",
    "modified_message2 = decrypt_message(aes_key, modified_encrypted2)\n",
    "print(f\"Расшифрованное изменённое сообщение 2: {modified_message2}\")\n"
   ]
  },
  {
   "cell_type": "code",
   "execution_count": 3,
   "metadata": {},
   "outputs": [
    {
     "name": "stdout",
     "output_type": "stream",
     "text": [
      "Зашифрованное сообщение 1: 2a2bb0110dfd99b21bdf26b99433a88389103a3ad9dad0c14c7b235bee0503ee40cddccf1d05f463ccfc8e450bdeb7bc9b7e9eca90e3d8fd7c8867a7c25cf95d\n",
      "Зашифрованное сообщение 2: 2a2bb0110dfd99b21bdf26b99433a88389103a3ad9dad0c14c7b235bee0503eee0ee15fb3bb346b6957e1acb93cf1823523efed58676274d95fe72239f9e71e4\n",
      "Расшифрованное изменённое сообщение 2: Встреча Боба и Алисы 28 мая в кафе\n"
     ]
    }
   ],
   "source": [
    "key = b'\\x01' * 16  \n",
    "\n",
    "message1 = \"Встреча Боба и Алисы 10 мая в кафе\"\n",
    "cipher1 = Cipher(algorithms.AES(key), modes.ECB(), backend=default_backend())\n",
    "encryptor1 = cipher1.encryptor()\n",
    "padder1 = padding.PKCS7(128).padder()\n",
    "padded_data1 = padder1.update(message1.encode()) + padder1.finalize()\n",
    "encrypted1 = encryptor1.update(padded_data1) + encryptor1.finalize()\n",
    "print(f\"Зашифрованное сообщение 1: {encrypted1.hex()}\")\n",
    "\n",
    "message2 = \"Встреча Боба и Алисы 28 мая в кино\"\n",
    "cipher2 = Cipher(algorithms.AES(key), modes.ECB(), backend=default_backend())\n",
    "encryptor2 = cipher2.encryptor()\n",
    "padder2 = padding.PKCS7(128).padder()\n",
    "padded_data2 = padder2.update(message2.encode()) + padder2.finalize()\n",
    "encrypted2 = encryptor2.update(padded_data2) + encryptor2.finalize()\n",
    "print(f\"Зашифрованное сообщение 2: {encrypted2.hex()}\")\n",
    "\n",
    "modified_encrypted2 = encrypted2[:-16] + encrypted1[-16:]\n",
    "\n",
    "decryptor = Cipher(algorithms.AES(key), modes.ECB(), backend=default_backend()).decryptor()\n",
    "decrypted_padded = decryptor.update(modified_encrypted2) + decryptor.finalize()\n",
    "unpadder = padding.PKCS7(128).unpadder()\n",
    "decrypted = unpadder.update(decrypted_padded) + unpadder.finalize()\n",
    "print(f\"Расшифрованное изменённое сообщение 2: {decrypted.decode()}\")"
   ]
  }
 ],
 "metadata": {
  "kernelspec": {
   "display_name": "Python 3",
   "language": "python",
   "name": "python3"
  },
  "language_info": {
   "codemirror_mode": {
    "name": "ipython",
    "version": 3
   },
   "file_extension": ".py",
   "mimetype": "text/x-python",
   "name": "python",
   "nbconvert_exporter": "python",
   "pygments_lexer": "ipython3",
   "version": "3.12.6"
  }
 },
 "nbformat": 4,
 "nbformat_minor": 2
}
